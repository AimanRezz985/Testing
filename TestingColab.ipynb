{
  "nbformat": 4,
  "nbformat_minor": 0,
  "metadata": {
    "colab": {
      "provenance": [],
      "authorship_tag": "ABX9TyOPMVs5ikIOEDdNv8fS3hXK",
      "include_colab_link": true
    },
    "kernelspec": {
      "name": "python3",
      "display_name": "Python 3"
    },
    "language_info": {
      "name": "python"
    }
  },
  "cells": [
    {
      "cell_type": "markdown",
      "metadata": {
        "id": "view-in-github",
        "colab_type": "text"
      },
      "source": [
        "<a href=\"https://colab.research.google.com/github/AimanRezz985/Testing/blob/main/TestingColab.ipynb\" target=\"_parent\"><img src=\"https://colab.research.google.com/assets/colab-badge.svg\" alt=\"Open In Colab\"/></a>"
      ]
    },
    {
      "cell_type": "code",
      "execution_count": 3,
      "metadata": {
        "colab": {
          "base_uri": "https://localhost:8080/"
        },
        "id": "8tcGi6jyjdy-",
        "outputId": "ee0d6d99-7dc6-4886-d009-aaf3810b23ee"
      },
      "outputs": [
        {
          "output_type": "stream",
          "name": "stdout",
          "text": [
            "fatal: destination path 'Testing' already exists and is not an empty directory.\n",
            "ls: cannot access 'path_your_cloned_repo': No such file or directory\n"
          ]
        }
      ],
      "source": [
        "!git clone https://github.com/AimanRezz985/Testing.git\n"
      ]
    },
    {
      "cell_type": "code",
      "source": [
        "print(\"Hello\") #by Aiman"
      ],
      "metadata": {
        "colab": {
          "base_uri": "https://localhost:8080/"
        },
        "id": "D5M0PpBFj28O",
        "outputId": "4fc68da9-ef5c-4959-f503-d318a90c2596"
      },
      "execution_count": 4,
      "outputs": [
        {
          "output_type": "stream",
          "name": "stdout",
          "text": [
            "Hello\n"
          ]
        }
      ]
    }
  ]
}